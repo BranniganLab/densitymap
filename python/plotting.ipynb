{
 "cells": [
  {
   "cell_type": "code",
   "execution_count": null,
   "metadata": {},
   "outputs": [],
   "source": [
    "import numpy as np\n",
    "import matplotlib.pyplot as plt\n",
    "import pandas as pd"
   ]
  },
  {
   "cell_type": "code",
   "execution_count": null,
   "metadata": {},
   "outputs": [],
   "source": [
    "def sector_area (dth, r):\n",
    "    return 0.5*dth*r**2\n",
    "def do_polar_plot(theta, radius, density, vmin=0, vmax=2):\n",
    "    fig, ax =  plt.subplots(subplot_kw={'projection': 'polar'})\n",
    "    img = ax.pcolormesh(theta, radius, density, cmap=\"RdBu\", zorder=0, edgecolors='k', lw=0.001, vmin=vmin, vmax=vmax)\n",
    "    #img = ax.pcolormesh(theta, radius, density, cmap=\"RdBu\")\n",
    "    fig.colorbar(img, ax=ax)\n",
    "\n",
    "    return fig, ax"
   ]
  },
  {
   "cell_type": "code",
   "execution_count": null,
   "metadata": {},
   "outputs": [],
   "source": [
    "data = np.loadtxt(\"../POPG.dat.low.dat\", skiprows=1)\n",
    "data = data[:,:-15]"
   ]
  },
  {
   "cell_type": "code",
   "execution_count": null,
   "metadata": {},
   "outputs": [],
   "source": [
    "Ntheta = len(data[0,:])-3\n",
    "dr = data[1,0]-data[0,0]\n",
    "dth = 360/Ntheta\n",
    "rad=np.mean(data[:,0:2], axis=1)\n",
    "the = np.linspace(0,2*np.pi, Ntheta)\n",
    "theta, radius = np.meshgrid(the, rad)\n",
    "areas = sector_area(dth, radius+rad[0])-sector_area(dth, radius-rad[0])\n",
    "counts =  data[:, 3:]\n",
    "density = counts/areas\n",
    "enrichment = density/0.0049\n",
    "dth"
   ]
  },
  {
   "cell_type": "code",
   "execution_count": null,
   "metadata": {},
   "outputs": [],
   "source": [
    "fig, ax = do_polar_plot(theta, radius, counts, vmin=0, vmax=None)\n",
    "\n",
    "theta_centers = [np.deg2rad(180/Ntheta+np.linspace(0, 360, Ntheta))]\n",
    "ax.vlines(theta_centers, [0], [data[-1,1]], color='k')\n",
    "plt.savefig(\"counts_elic.pdf\")\n",
    "plt.show()"
   ]
  },
  {
   "cell_type": "code",
   "execution_count": null,
   "metadata": {},
   "outputs": [],
   "source": [
    "fig, ax = do_polar_plot(theta, radius, density, vmin=0, vmax=None)\n",
    "\n",
    "theta_centers = [np.deg2rad(180/Ntheta+np.linspace(0, 360, Ntheta))]\n",
    "ax.vlines(theta_centers, [0], [data[-1,1]], color='k')\n",
    "plt.savefig(\"density_elic.pdf\")\n",
    "plt.show()"
   ]
  },
  {
   "cell_type": "code",
   "execution_count": null,
   "metadata": {},
   "outputs": [],
   "source": [
    "np.sum(density)"
   ]
  },
  {
   "cell_type": "code",
   "execution_count": null,
   "metadata": {},
   "outputs": [],
   "source": [
    "fig, ax = do_polar_plot(theta, radius, enrichment)\n",
    "\n",
    "theta_centers = [np.deg2rad(180/Ntheta+np.linspace(0, 360, Ntheta))]\n",
    "ax.vlines(theta_centers, [0], [data[-1,1]], color='k')\n",
    "plt.savefig(\"enrichment_elic.pdf\")\n",
    "plt.show()"
   ]
  }
 ],
 "metadata": {
  "kernelspec": {
   "display_name": "jupEnv",
   "language": "python",
   "name": "python3"
  },
  "language_info": {
   "codemirror_mode": {
    "name": "ipython",
    "version": 3
   },
   "file_extension": ".py",
   "mimetype": "text/x-python",
   "name": "python",
   "nbconvert_exporter": "python",
   "pygments_lexer": "ipython3",
   "version": "3.9.16"
  }
 },
 "nbformat": 4,
 "nbformat_minor": 2
}
