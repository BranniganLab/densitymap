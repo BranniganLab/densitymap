{
 "cells": [
  {
   "cell_type": "code",
   "execution_count": null,
   "metadata": {},
   "outputs": [],
   "source": [
    "import numpy as np\n",
    "import pandas as pd\n",
    "import polarDensity_helper as pc\n",
    "from pathlib import Path\n",
    "import matplotlib.pyplot as plt\n",
    "import matplotlib.gridspec as gridspec\n",
    "from matplotlib.colors import LogNorm\n",
    "from matplotlib.ticker import LogFormatterExponent\n",
    "plt.rcParams['axes.grid'] = False "
   ]
  },
  {
   "cell_type": "code",
   "execution_count": null,
   "metadata": {},
   "outputs": [],
   "source": [
    "'''\n",
    "memb (str) should be synps or oocyt\n",
    "ddg (bool) determines if ddg analysis called\n",
    "lipids (str) points to a file to check lipids\n",
    "enrich (bool) tells script to check enrichment\n",
    "'''\n",
    "\n",
    "# initialization\n",
    "density = None\n",
    "chol_bind = None\n",
    "w3_bind = None\n",
    "rat = None\n",
    "chains_groups = [\"POPE\", \"POPG\"]\n",
    "lipids = chains_groups\n",
    "col = []\n",
    "#chains_up, chains_lo = pc.prot_coord()\n",
    "enrich = True\n",
    "\n",
    "# get files to use\n",
    "root = Path(\"..\")\n",
    "file_list = []\n",
    "for lip in lipids:\n",
    "    toadd = list(root.glob(f\"{lip}*.dat*.dat\") )\n",
    "    file_list = np.append(file_list,toadd)\n",
    "\n",
    "leaflets = ['low', 'upp']"
   ]
  },
  {
   "cell_type": "code",
   "execution_count": null,
   "metadata": {},
   "outputs": [],
   "source": [
    "enrichments = pd.DataFrame(index=chains_groups, columns=leaflets)\n",
    "counts = pd.DataFrame(index=chains_groups, columns=leaflets)\n",
    "\n",
    "idx = 0\n",
    "for fl in file_list:\n",
    "    if idx == 0:\n",
    "        rad, dr, dth, theta, radius, frames, Ntheta = pc.Coord_Get(fl)\n",
    "\n",
    "    filename = fl.name\n",
    "\n",
    "    tmp_chain = filename.split('.')[0]\n",
    "    tmp_nm = filename.split('.')[2]\n",
    "\n",
    "    # This is a hack. The above part does not have a \"flexible\"\n",
    "    # method to consider sim type (a, b ...)\n",
    "    idx+=1\n",
    "    toadd = np.loadtxt(fl, skiprows=1)\n",
    "    toadd = toadd[:,3:-1]\n",
    "    counts.at[tmp_chain,tmp_nm] = toadd\n",
    "    enrichments.at[tmp_chain,tmp_nm] = pc._analysis_call_(fl, radius, dr, dth, frames, enrich=enrich)\n"
   ]
  },
  {
   "cell_type": "code",
   "execution_count": null,
   "metadata": {},
   "outputs": [],
   "source": [
    "# Optional helix locations\n",
    "try:\n",
    "    helices_lwr = np.loadtxt(root.joinpath(\"Protein_coords_lwr.dat\"))\n",
    "    helices_upr = np.loadtxt(root.joinpath(\"Protein_coords_upr.dat\"))\n",
    "except FileNotFoundError:\n",
    "    helices_lwr = None\n",
    "    helices_upr = None\n",
    "    print(\"Protein coordinates not found\")"
   ]
  },
  {
   "cell_type": "code",
   "execution_count": null,
   "metadata": {},
   "outputs": [],
   "source": [
    "def polar_plot(data_in, theta, radius, chains_groups, helices_lwr=None, helices_upr=None, vmax=2, vmid=1, vmin=0, colorbychain=True):\n",
    "\t# plots densities\n",
    "\t# data_in = array/list of density data\n",
    "\t# theta, radius = arrays of position bins\n",
    "\t# chains_groups = old name, really lipids to plot\n",
    "\n",
    "    data_in = pc.sum_reps(data_in)\n",
    "    fig = plt.figure(figsize=(10,10))\n",
    "    gs1=gridspec.GridSpec(len(chains_groups),2,wspace=.15, hspace=0.15)\n",
    "    plt.rcParams.update({'font.size': 10})\n",
    "    norm1 = pc.MidpointNormalize(midpoint=vmid,vmin=vmin,vmax=vmax)\n",
    "    cmap = plt.cm.RdBu_r#PuOr\n",
    "    cmap.set_bad(color='black')\n",
    "    grid = 0\n",
    "    #chains_up, chains_lo = prot_coord()\n",
    "    #sub = [\"g\",'m','grey','green','cyan']#original\n",
    "\n",
    "    #  orange   light blue   green      amber      blue       red       purple \n",
    "    #\"#E69F00\"  \"#56B4E9\"  \"#009E73\"  \"#F5C710\"  \"#0072B2\"  \"#D55E00\"  \"#CC79A7\" \n",
    "    sub = [\"#E69F00\", \"#56B4E9\", \"#009E73\", \"#F5C710\", \"#0072B2\", \"#D55E00\", \"#CC79A7\" ]\n",
    "\n",
    "    for cg in chains_groups:\n",
    "        for leaf in data_in.columns:\n",
    "            ax = plt.subplot(gs1[grid],projection=\"polar\")\n",
    "            ax.grid(False)\n",
    "            toplot = data_in.at[cg,leaf]\n",
    "            s = ax.pcolormesh(theta, \n",
    "                              radius, \n",
    "                              toplot,\n",
    "                              cmap=cmap,\n",
    "                              norm=norm1,\n",
    "                              zorder=0,\n",
    "                              edgecolors='none',\n",
    "                              linewidth=0,\n",
    "                              )\n",
    "            s.set_edgecolor('face')\n",
    "            if grid%2==0:\n",
    "                ax.set_ylabel(cg)\n",
    "            if grid < 2:\n",
    "                ax.set_title(leaf)\n",
    "                \n",
    "            ax.set_xticklabels([])\n",
    "            ax.set_yticklabels([])\n",
    "            grid = grid + 1\n",
    "            \n",
    "            if leaf==\"Outer\":\n",
    "                helices = helices_upr\n",
    "            else:\n",
    "                helices = helices_lwr\n",
    "\n",
    "            if helices is not None:\n",
    "                if len(np.shape(helices))==1:\n",
    "                    helices = np.reshape(helices, (1,len(helices)))\n",
    "                for i,pro in enumerate(helices[:]):\n",
    "                    if colorbychain:\n",
    "                        colors = sub[i]\n",
    "                    else:\n",
    "                        colors = sub[:len(pro[::2])]\n",
    "                    ax.scatter(np.deg2rad(pro[1::2]),\n",
    "                                pro[::2],\n",
    "                                color=colors,\n",
    "                                linewidth=6,\n",
    "                                zorder=1, \n",
    "                                s=np.shape(data_in)[0]*10,\n",
    "                                )\n",
    "\n",
    "\n",
    "    fig.subplots_adjust(right=0.8)\n",
    "    cbar_ax = fig.add_axes([0.21, .89, 0.5, 0.008])\n",
    "    fig.colorbar(s, cax=cbar_ax,ticks=np.linspace(vmin,vmax,5),orientation=\"horizontal\")\n",
    "\n",
    "    #plt.tight_layout()\n",
    "    return fig, ax"
   ]
  },
  {
   "cell_type": "code",
   "execution_count": null,
   "metadata": {},
   "outputs": [],
   "source": [
    "radius = radius-5"
   ]
  },
  {
   "cell_type": "code",
   "execution_count": null,
   "metadata": {},
   "outputs": [],
   "source": [
    "fig, ax = polar_plot(enrichments, theta, radius, chains_groups, helices_lwr, helices_upr, colorbychain=False)\n",
    "plt.savefig(\"old_enrichment.pdf\")\n",
    "plt.show()"
   ]
  },
  {
   "cell_type": "code",
   "execution_count": null,
   "metadata": {},
   "outputs": [],
   "source": [
    "# A = radius*dr*dth\n",
    "# densities = counts.copy()\n",
    "# for lip in lipids:\n",
    "#     for leaf in leaflets:\n",
    "#         densities.at[lip, leaf] = counts.loc[lip, leaf]/A\n",
    "\n",
    "# fig, ax = polar_plot(densities, theta, radius, chains_groups, helices_lwr, helices_upr, vmax=0.2, vmid=0.1, vmin=0)\n",
    "# plt.savefig(\"densities.pdf\")\n",
    "# plt.show()"
   ]
  },
  {
   "cell_type": "code",
   "execution_count": null,
   "metadata": {},
   "outputs": [],
   "source": [
    "# freqs, edges = np.histogram(np.reshape(densities.iloc[0,0],np.product(np.shape(densities.iloc[0,0]))), density=True)\n",
    "# centers = edges[0:-1]+(edges[0]+edges[1])/2\n",
    "# fig, ax = plt.subplots()\n",
    "# ax.plot(centers, freqs)\n",
    "# ax.set_xlabel(r\"Density (count/$\\AA^2$)\")\n",
    "# ax.set_ylabel(\"Probability Density\")\n",
    "# plt.savefig(\"Distribution_of_densities.pdf\")"
   ]
  },
  {
   "cell_type": "code",
   "execution_count": null,
   "metadata": {},
   "outputs": [],
   "source": [
    "# enrichments = densities.copy()\n",
    "# enrichments.iloc[0,:] =  enrichments.iloc[0,:]/0.118\n",
    "# enrichments.iloc[1,:] =  enrichments.iloc[1,:]/0.0518\n",
    "# fig, ax = polar_plot(enrichments, theta, radius, chains_groups, helices_lwr, helices_upr)\n",
    "# plt.savefig(\"enrichments.pdf\")\n",
    "# plt.show()"
   ]
  },
  {
   "cell_type": "code",
   "execution_count": null,
   "metadata": {},
   "outputs": [],
   "source": []
  }
 ],
 "metadata": {
  "kernelspec": {
   "display_name": "jupEnv",
   "language": "python",
   "name": "python3"
  },
  "language_info": {
   "codemirror_mode": {
    "name": "ipython",
    "version": 3
   },
   "file_extension": ".py",
   "mimetype": "text/x-python",
   "name": "python",
   "nbconvert_exporter": "python",
   "pygments_lexer": "ipython3",
   "version": "3.9.12"
  }
 },
 "nbformat": 4,
 "nbformat_minor": 2
}
